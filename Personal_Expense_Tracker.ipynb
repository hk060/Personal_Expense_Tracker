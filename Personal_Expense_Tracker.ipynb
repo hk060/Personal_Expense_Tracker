{
 "cells": [
  {
   "cell_type": "markdown",
   "id": "ed1b6adb",
   "metadata": {},
   "source": [
    "# 🧾 Personal Expense Tracker\n",
    "\n",
    "This notebook implements a simple personal expense tracker in Python. You can record expenses, view weekly/monthly summaries, and visualize spending."
   ]
  },
  {
   "cell_type": "code",
   "execution_count": 15,
   "id": "1a031e94",
   "metadata": {},
   "outputs": [],
   "source": [
    "\n",
    "import pandas as pd\n",
    "from pathlib import Path\n",
    "from datetime import datetime\n",
    "import matplotlib.pyplot as plt\n",
    "\n",
    "DATA_FILE = Path('expenses.csv')\n",
    "\n",
    "def ensure_csv():\n",
    "    if not DATA_FILE.exists():\n",
    "        df = pd.DataFrame(columns=['date','category','amount','description'])\n",
    "        df.to_csv(DATA_FILE, index=False)\n",
    "\n",
    "ensure_csv()\n"
   ]
  },
  {
   "cell_type": "markdown",
   "id": "8f4d8516",
   "metadata": {},
   "source": [
    "### Helper functions for date and amount parsing"
   ]
  },
  {
   "cell_type": "code",
   "execution_count": 16,
   "id": "bd1bf485",
   "metadata": {},
   "outputs": [],
   "source": [
    "\n",
    "def parse_date(s):\n",
    "    s = str(s).strip()\n",
    "    if s.lower() in ['', 'today', 't']:\n",
    "        return pd.to_datetime('today').normalize()\n",
    "    try:\n",
    "        return pd.to_datetime(s).normalize()\n",
    "    except Exception:\n",
    "        raise ValueError(\"Date not recognized. Use YYYY-MM-DD or 'today'.\")\n",
    "\n",
    "def parse_amount(s):\n",
    "    s = str(s).strip().replace(',', '')\n",
    "    try:\n",
    "        return float(s)\n",
    "    except Exception:\n",
    "        raise ValueError(\"Amount must be a number (e.g. 499 or 49.99).\")\n"
   ]
  },
  {
   "cell_type": "markdown",
   "id": "ab372607",
   "metadata": {},
   "source": [
    "### Add expenses interactively"
   ]
  },
  {
   "cell_type": "code",
   "execution_count": 17,
   "id": "0e574d61",
   "metadata": {},
   "outputs": [],
   "source": [
    "\n",
    "def add_expense_interactive():\n",
    "    ensure_csv()\n",
    "    date_input = input(\"Date (YYYY-MM-DD) [today]: \") or 'today'\n",
    "    try:\n",
    "        dt = parse_date(date_input)\n",
    "    except ValueError as e:\n",
    "        print(\"Error:\", e)\n",
    "        return\n",
    "\n",
    "    category = input(\"Category (food, rent, travel, etc.): \").strip() or 'misc'\n",
    "    amount_input = input(\"Amount (numbers only): \")\n",
    "    try:\n",
    "        amount = parse_amount(amount_input)\n",
    "    except ValueError as e:\n",
    "        print(\"Error:\", e)\n",
    "        return\n",
    "\n",
    "    description = input(\"Description (optional): \").strip()\n",
    "    new_row = {\n",
    "        'date': dt.date().isoformat(),\n",
    "        'category': category,\n",
    "        'amount': amount,\n",
    "        'description': description\n",
    "    }\n",
    "\n",
    "    pd.DataFrame([new_row]).to_csv(DATA_FILE, mode='a', header=not DATA_FILE.exists(), index=False)\n",
    "    print(\"Saved:\", new_row)\n"
   ]
  },
  {
   "cell_type": "markdown",
   "id": "9f45648e",
   "metadata": {},
   "source": [
    "### Load expenses and view recent entries"
   ]
  },
  {
   "cell_type": "code",
   "execution_count": 18,
   "id": "60d401e6",
   "metadata": {},
   "outputs": [
    {
     "data": {
      "text/html": [
       "<div>\n",
       "<style scoped>\n",
       "    .dataframe tbody tr th:only-of-type {\n",
       "        vertical-align: middle;\n",
       "    }\n",
       "\n",
       "    .dataframe tbody tr th {\n",
       "        vertical-align: top;\n",
       "    }\n",
       "\n",
       "    .dataframe thead th {\n",
       "        text-align: right;\n",
       "    }\n",
       "</style>\n",
       "<table border=\"1\" class=\"dataframe\">\n",
       "  <thead>\n",
       "    <tr style=\"text-align: right;\">\n",
       "      <th></th>\n",
       "      <th>date</th>\n",
       "      <th>category</th>\n",
       "      <th>amount</th>\n",
       "      <th>description</th>\n",
       "    </tr>\n",
       "  </thead>\n",
       "  <tbody>\n",
       "    <tr>\n",
       "      <th>3</th>\n",
       "      <td>2025-10-02</td>\n",
       "      <td>food</td>\n",
       "      <td>200.0</td>\n",
       "      <td>dinner</td>\n",
       "    </tr>\n",
       "    <tr>\n",
       "      <th>7</th>\n",
       "      <td>2025-10-02</td>\n",
       "      <td>food</td>\n",
       "      <td>200.0</td>\n",
       "      <td>dinner</td>\n",
       "    </tr>\n",
       "    <tr>\n",
       "      <th>2</th>\n",
       "      <td>2025-09-30</td>\n",
       "      <td>rent</td>\n",
       "      <td>8000.0</td>\n",
       "      <td>monthly rent</td>\n",
       "    </tr>\n",
       "    <tr>\n",
       "      <th>6</th>\n",
       "      <td>2025-09-30</td>\n",
       "      <td>rent</td>\n",
       "      <td>8000.0</td>\n",
       "      <td>monthly rent</td>\n",
       "    </tr>\n",
       "    <tr>\n",
       "      <th>1</th>\n",
       "      <td>2025-09-29</td>\n",
       "      <td>travel</td>\n",
       "      <td>40.0</td>\n",
       "      <td>bus fare</td>\n",
       "    </tr>\n",
       "    <tr>\n",
       "      <th>5</th>\n",
       "      <td>2025-09-29</td>\n",
       "      <td>travel</td>\n",
       "      <td>40.0</td>\n",
       "      <td>bus fare</td>\n",
       "    </tr>\n",
       "    <tr>\n",
       "      <th>0</th>\n",
       "      <td>2025-09-28</td>\n",
       "      <td>food</td>\n",
       "      <td>150.0</td>\n",
       "      <td>lunch</td>\n",
       "    </tr>\n",
       "    <tr>\n",
       "      <th>4</th>\n",
       "      <td>2025-09-28</td>\n",
       "      <td>food</td>\n",
       "      <td>150.0</td>\n",
       "      <td>lunch</td>\n",
       "    </tr>\n",
       "  </tbody>\n",
       "</table>\n",
       "</div>"
      ],
      "text/plain": [
       "        date category  amount   description\n",
       "3 2025-10-02     food   200.0        dinner\n",
       "7 2025-10-02     food   200.0        dinner\n",
       "2 2025-09-30     rent  8000.0  monthly rent\n",
       "6 2025-09-30     rent  8000.0  monthly rent\n",
       "1 2025-09-29   travel    40.0      bus fare\n",
       "5 2025-09-29   travel    40.0      bus fare\n",
       "0 2025-09-28     food   150.0         lunch\n",
       "4 2025-09-28     food   150.0         lunch"
      ]
     },
     "metadata": {},
     "output_type": "display_data"
    }
   ],
   "source": [
    "\n",
    "def load_expenses():\n",
    "    ensure_csv()\n",
    "    df = pd.read_csv(DATA_FILE, parse_dates=['date'])\n",
    "    return df\n",
    "\n",
    "def show_recent(n=10):\n",
    "    df = load_expenses()\n",
    "    if df.empty:\n",
    "        print(\"No expenses recorded yet.\")\n",
    "        return\n",
    "    display(df.sort_values('date', ascending=False).head(n))\n",
    "\n",
    "# Example usage\n",
    "show_recent()\n"
   ]
  },
  {
   "cell_type": "markdown",
   "id": "6244addb",
   "metadata": {},
   "source": [
    "### Weekly summary with visualization"
   ]
  },
  {
   "cell_type": "code",
   "execution_count": 19,
   "id": "dbbaa952",
   "metadata": {},
   "outputs": [
    {
     "name": "stdout",
     "output_type": "stream",
     "text": [
      "Summary for 2025-09-28 → 2025-10-04 — total: ₹16780.00\n"
     ]
    },
    {
     "data": {
      "text/html": [
       "<div>\n",
       "<style scoped>\n",
       "    .dataframe tbody tr th:only-of-type {\n",
       "        vertical-align: middle;\n",
       "    }\n",
       "\n",
       "    .dataframe tbody tr th {\n",
       "        vertical-align: top;\n",
       "    }\n",
       "\n",
       "    .dataframe thead th {\n",
       "        text-align: right;\n",
       "    }\n",
       "</style>\n",
       "<table border=\"1\" class=\"dataframe\">\n",
       "  <thead>\n",
       "    <tr style=\"text-align: right;\">\n",
       "      <th></th>\n",
       "      <th>amount</th>\n",
       "    </tr>\n",
       "    <tr>\n",
       "      <th>category</th>\n",
       "      <th></th>\n",
       "    </tr>\n",
       "  </thead>\n",
       "  <tbody>\n",
       "    <tr>\n",
       "      <th>rent</th>\n",
       "      <td>16000.0</td>\n",
       "    </tr>\n",
       "    <tr>\n",
       "      <th>food</th>\n",
       "      <td>700.0</td>\n",
       "    </tr>\n",
       "    <tr>\n",
       "      <th>travel</th>\n",
       "      <td>80.0</td>\n",
       "    </tr>\n",
       "  </tbody>\n",
       "</table>\n",
       "</div>"
      ],
      "text/plain": [
       "           amount\n",
       "category         \n",
       "rent      16000.0\n",
       "food        700.0\n",
       "travel       80.0"
      ]
     },
     "metadata": {},
     "output_type": "display_data"
    },
    {
     "data": {
      "image/png": "[encoded data removed]",
      "text/plain": [
       "<Figure size 600x400 with 1 Axes>"
      ]
     },
     "metadata": {},
     "output_type": "display_data"
    }
   ],
   "source": [
    "\n",
    "def weekly_summary(days=7):\n",
    "    df = load_expenses()\n",
    "    if df.empty:\n",
    "        print(\"No expenses recorded.\")\n",
    "        return\n",
    "    today = pd.to_datetime('today').normalize()\n",
    "    start = today - pd.Timedelta(days=days-1)\n",
    "    mask = (df['date'] >= start) & (df['date'] <= today)\n",
    "    period_df = df.loc[mask]\n",
    "    if period_df.empty:\n",
    "        print(f\"No expenses between {start.date()} and {today.date()}\")\n",
    "        return\n",
    "    total = period_df['amount'].sum()\n",
    "    by_cat = period_df.groupby('category')['amount'].sum().sort_values(ascending=False)\n",
    "    print(f\"Summary for {start.date()} → {today.date()} — total: ₹{total:.2f}\")\n",
    "    display(by_cat.to_frame('amount'))\n",
    "    \n",
    "    # Visualization\n",
    "    by_cat.plot(kind='bar', figsize=(6,4), title='Weekly Expenses by Category')\n",
    "    plt.ylabel('Amount (₹)')\n",
    "    plt.show()\n",
    "\n",
    "# Example\n",
    "weekly_summary(7)\n"
   ]
  },
  {
   "cell_type": "markdown",
   "id": "abb43e31",
   "metadata": {},
   "source": [
    "### Monthly summary with visualization"
   ]
  },
  {
   "cell_type": "code",
   "execution_count": 20,
   "id": "cc16e3af",
   "metadata": {},
   "outputs": [
    {
     "name": "stdout",
     "output_type": "stream",
     "text": [
      "Summary for 2025-10 — total: ₹400.00\n"
     ]
    },
    {
     "data": {
      "text/html": [
       "<div>\n",
       "<style scoped>\n",
       "    .dataframe tbody tr th:only-of-type {\n",
       "        vertical-align: middle;\n",
       "    }\n",
       "\n",
       "    .dataframe tbody tr th {\n",
       "        vertical-align: top;\n",
       "    }\n",
       "\n",
       "    .dataframe thead th {\n",
       "        text-align: right;\n",
       "    }\n",
       "</style>\n",
       "<table border=\"1\" class=\"dataframe\">\n",
       "  <thead>\n",
       "    <tr style=\"text-align: right;\">\n",
       "      <th></th>\n",
       "      <th>amount</th>\n",
       "    </tr>\n",
       "    <tr>\n",
       "      <th>category</th>\n",
       "      <th></th>\n",
       "    </tr>\n",
       "  </thead>\n",
       "  <tbody>\n",
       "    <tr>\n",
       "      <th>food</th>\n",
       "      <td>400.0</td>\n",
       "    </tr>\n",
       "  </tbody>\n",
       "</table>\n",
       "</div>"
      ],
      "text/plain": [
       "          amount\n",
       "category        \n",
       "food       400.0"
      ]
     },
     "metadata": {},
     "output_type": "display_data"
    },
    {
     "data": {
      "image/png": "[encoded data removed]",
      "text/plain": [
       "<Figure size 500x500 with 1 Axes>"
      ]
     },
     "metadata": {},
     "output_type": "display_data"
    }
   ],
   "source": [
    "\n",
    "def monthly_summary(year=None, month=None):\n",
    "    df = load_expenses()\n",
    "    if df.empty:\n",
    "        print(\"No expenses recorded.\")\n",
    "        return\n",
    "    today = pd.to_datetime('today').normalize()\n",
    "    if year is None:\n",
    "        year = today.year\n",
    "    if month is None:\n",
    "        month = today.month\n",
    "    mask = (df['date'].dt.year == int(year)) & (df['date'].dt.month == int(month))\n",
    "    period_df = df.loc[mask]\n",
    "    if period_df.empty:\n",
    "        print(f\"No expenses recorded for {year}-{month:02d}.\")\n",
    "        return\n",
    "    total = period_df['amount'].sum()\n",
    "    by_cat = period_df.groupby('category')['amount'].sum().sort_values(ascending=False)\n",
    "    print(f\"Summary for {year}-{month:02d} — total: ₹{total:.2f}\")\n",
    "    display(by_cat.to_frame('amount'))\n",
    "    \n",
    "    # Visualization (pie chart)\n",
    "    by_cat.plot(kind='pie', autopct='%1.1f%%', figsize=(5,5), title='Monthly Expense Share')\n",
    "    plt.ylabel('')\n",
    "    plt.show()\n",
    "\n",
    "# Example\n",
    "monthly_summary()\n"
   ]
  },
  {
   "cell_type": "markdown",
   "id": "6c1f1442",
   "metadata": {},
   "source": [
    "### (Optional) Add some sample data for testing"
   ]
  },
  {
   "cell_type": "code",
   "execution_count": 21,
   "id": "67f7ae3b",
   "metadata": {},
   "outputs": [
    {
     "name": "stdout",
     "output_type": "stream",
     "text": [
      "Sample rows added.\n"
     ]
    }
   ],
   "source": [
    "\n",
    "sample = [\n",
    "    {'date':'2025-09-28','category':'food','amount':150.0,'description':'lunch'},\n",
    "    {'date':'2025-09-29','category':'travel','amount':40.0,'description':'bus fare'},\n",
    "    {'date':'2025-09-30','category':'rent','amount':8000.0,'description':'monthly rent'},\n",
    "    {'date':'2025-10-02','category':'food','amount':200.0,'description':'dinner'},\n",
    "]\n",
    "pd.DataFrame(sample).to_csv(DATA_FILE, mode='a', header=not DATA_FILE.exists(), index=False)\n",
    "print(\"Sample rows added.\")\n"
   ]
  }
 ],
 "metadata": {
  "kernelspec": {
   "display_name": "base",
   "language": "python",
   "name": "python3"
  },
  "language_info": {
   "codemirror_mode": {
    "name": "ipython",
    "version": 3
   },
   "file_extension": ".py",
   "mimetype": "text/x-python",
   "name": "python",
   "nbconvert_exporter": "python",
   "pygments_lexer": "ipython3",
   "version": "3.12.7"
  }
 },
 "nbformat": 4,
 "nbformat_minor": 5
}
